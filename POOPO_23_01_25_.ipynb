{
  "nbformat": 4,
  "nbformat_minor": 0,
  "metadata": {
    "colab": {
      "provenance": []
    },
    "kernelspec": {
      "name": "python3",
      "display_name": "Python 3"
    },
    "language_info": {
      "name": "python"
    }
  },
  "cells": [
    {
      "cell_type": "code",
      "execution_count": 10,
      "metadata": {
        "colab": {
          "base_uri": "https://localhost:8080/",
          "height": 106
        },
        "id": "H-ACktbUpZIf",
        "outputId": "625f791d-3f65-4a7c-900a-f2a0ba08e838"
      },
      "outputs": [
        {
          "output_type": "error",
          "ename": "SyntaxError",
          "evalue": "invalid syntax (<ipython-input-10-a9044996ed95>, line 1)",
          "traceback": [
            "\u001b[0;36m  File \u001b[0;32m\"<ipython-input-10-a9044996ed95>\"\u001b[0;36m, line \u001b[0;32m1\u001b[0m\n\u001b[0;31m    give me a very short introduction to Python\u001b[0m\n\u001b[0m         ^\u001b[0m\n\u001b[0;31mSyntaxError\u001b[0m\u001b[0;31m:\u001b[0m invalid syntax\n"
          ]
        }
      ],
      "source": [
        "give me a very short introduction to Python"
      ]
    },
    {
      "cell_type": "markdown",
      "source": [
        "#Introduccion a Python\n",
        "Google Colab"
      ],
      "metadata": {
        "id": "BOwNryZ1qYas"
      }
    },
    {
      "cell_type": "markdown",
      "source": [
        "##¿Qué veremos hoy?\n",
        "\n",
        "1.   Objetos\n",
        "2.   Variables\n",
        "3.   Ejemplos"
      ],
      "metadata": {
        "id": "alcPOzRvsoQe"
      }
    },
    {
      "cell_type": "markdown",
      "source": [
        "Python es un lenguaje de programación de alto nivel y de propósito general conocido por su legibilidad y versatilidad.  Se utiliza ampliamente en desarrollo web, ciencia de datos, aprendizaje automático, secuencias de comandos y automatización.  Su sintaxis clara enfatiza la legibilidad del código y admite múltiples paradigmas de programación (procedimental, orientada a objetos, funcional).  La extensa biblioteca estándar de Python y su vasto ecosistema de paquetes de terceros lo convierten en una herramienta poderosa para una variedad de tareas.\n"
      ],
      "metadata": {
        "id": "V3wJQ0bGsXGr"
      }
    },
    {
      "cell_type": "markdown",
      "source": [
        "Nota: En este procesador de texto, se puede escribir en html y en latex\n"
      ],
      "metadata": {
        "id": "BAMcDjA_t_8Q"
      }
    },
    {
      "cell_type": "markdown",
      "source": [
        "Por ejemplo, vamos a escribir a la ecuación más hermosa:"
      ],
      "metadata": {
        "id": "HtR4v09YuliY"
      }
    },
    {
      "cell_type": "markdown",
      "source": [
        "$$e^{i\\pi}+1=0$$"
      ],
      "metadata": {
        "id": "sdOvwNT2vBHJ"
      }
    },
    {
      "cell_type": "markdown",
      "source": [
        "Otro ejemplo:"
      ],
      "metadata": {
        "id": "a2P-2O3_w00T"
      }
    },
    {
      "cell_type": "markdown",
      "source": [
        "\n",
        "\\begin{pmatrix}\n",
        "a_{11} & a_{12} & \\cdots & a_{1n} \\\\\n",
        "a_{21} & a_{22} & \\cdots & a_{2n} \\\\\n",
        "\\vdots & \\vdots & \\ddots & \\vdots \\\\\n",
        "a_{m1} & a_{m2} & \\cdots & a_{mn}\n",
        "\\end{pmatrix}\n"
      ],
      "metadata": {
        "id": "9oUxdt0Fx-OB"
      }
    },
    {
      "cell_type": "markdown",
      "source": [
        "###  Algunos objetos en Python\n",
        "\n",
        "\n",
        "1.   int y float (enteros y flotantes)\n",
        "2.   str (\"string\")\n",
        "3.   Conjuntos y Listas\n",
        "\n"
      ],
      "metadata": {
        "id": "axsO7wi16zGE"
      }
    },
    {
      "cell_type": "markdown",
      "source": [
        "**La función `print` y la función `type`**"
      ],
      "metadata": {
        "id": "HdN2MLCS8p2g"
      }
    },
    {
      "cell_type": "code",
      "source": [
        "# Vamos a imprimir Hola Mundo!\n",
        "\"Hola Mundo!\""
      ],
      "metadata": {
        "colab": {
          "base_uri": "https://localhost:8080/",
          "height": 36
        },
        "id": "09MjsGVc-iHx",
        "outputId": "f1733464-87bc-4eb4-81d3-ecaf8b775507"
      },
      "execution_count": 17,
      "outputs": [
        {
          "output_type": "execute_result",
          "data": {
            "text/plain": [
              "'Hola Mundo!'"
            ],
            "application/vnd.google.colaboratory.intrinsic+json": {
              "type": "string"
            }
          },
          "metadata": {},
          "execution_count": 17
        }
      ]
    },
    {
      "cell_type": "code",
      "source": [
        "print(\"César\")\n",
        "\n",
        "print(\"Hola a todos!\")"
      ],
      "metadata": {
        "colab": {
          "base_uri": "https://localhost:8080/"
        },
        "id": "U_IQzfur_mWD",
        "outputId": "4f0eb041-7054-49ed-bd95-dd79b44ec88d"
      },
      "execution_count": 18,
      "outputs": [
        {
          "output_type": "stream",
          "name": "stdout",
          "text": [
            "César\n",
            "Hola a todos!\n"
          ]
        }
      ]
    },
    {
      "cell_type": "markdown",
      "source": [
        "### Operaciones Básicas en int o float\n",
        "* $+,\\ -$ Suma y resta\n",
        "* $*, /, **$ Multiplicación, dividir y potenciación\n",
        "\n",
        "* $\\%$ Operación modular\n",
        "* $//$ División al piso"
      ],
      "metadata": {
        "id": "1hzjCgdgDtQD"
      }
    },
    {
      "cell_type": "markdown",
      "source": [
        "**Creación de Variables**\n",
        "\n",
        "nombre = objeto"
      ],
      "metadata": {
        "id": "x3t6JPNeFULE"
      }
    },
    {
      "cell_type": "code",
      "source": [
        "# Vamos a crear dos variables\n",
        "\n",
        "x=7\n",
        "y=3"
      ],
      "metadata": {
        "id": "wW-LFF2hGFG5"
      },
      "execution_count": 19,
      "outputs": []
    },
    {
      "cell_type": "code",
      "source": [
        "# Operaciones\n",
        "print(f\" La suma entre {x} y {y} es {x+y}\")\n",
        "print(f\" La potenciación entre {x} y {y} es {x**y}\")\n",
        "print(f\" El residuo entre {x} y {y} es {x%y}\")\n",
        "print(f\" La división al piso entre {x} y {y} es {x//y}\")\n"
      ],
      "metadata": {
        "colab": {
          "base_uri": "https://localhost:8080/"
        },
        "id": "0CDsQTsOHD2I",
        "outputId": "e13ddcd7-6a9b-4db1-e74c-d581a26dfe81"
      },
      "execution_count": 23,
      "outputs": [
        {
          "output_type": "stream",
          "name": "stdout",
          "text": [
            " La suma entre 7 y 3 es 10\n",
            " La potenciación entre 7 y 3 es 343\n",
            " El residuo entre 7 y 3 es 1\n",
            " La división al piso entre 7 y 3 es 2\n"
          ]
        }
      ]
    },
    {
      "cell_type": "code",
      "source": [
        "type(x/y), type(\"César\")"
      ],
      "metadata": {
        "colab": {
          "base_uri": "https://localhost:8080/"
        },
        "id": "VMK7rvwxI7wD",
        "outputId": "c01d27cd-4e4d-41b5-d6dc-6792f8f6af2b"
      },
      "execution_count": 26,
      "outputs": [
        {
          "output_type": "execute_result",
          "data": {
            "text/plain": [
              "(float, str)"
            ]
          },
          "metadata": {},
          "execution_count": 26
        }
      ]
    }
  ]
}