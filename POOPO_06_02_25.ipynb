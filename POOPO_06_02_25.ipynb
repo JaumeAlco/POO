{
  "nbformat": 4,
  "nbformat_minor": 0,
  "metadata": {
    "colab": {
      "provenance": []
    },
    "kernelspec": {
      "name": "python3",
      "display_name": "Python 3"
    },
    "language_info": {
      "name": "python"
    }
  },
  "cells": [
    {
      "cell_type": "markdown",
      "source": [
        "#Arreglos y clases\n",
        "## Matrices\n",
        "Una matriz es un arreglo de mxn elementos\n",
        "\n",
        " \\begin{bmatrix}\n",
        "    a_{11} & a_{12} & \\cdots & a_{1n} \\\\\n",
        "    a_{21} & a_{22} & \\cdots & a_{2n} \\\\\n",
        "    \\vdots & \\vdots & \\ddots & \\vdots \\\\\n",
        "    a_{m1} & a_{m2} & \\cdots & a_{mn}\n",
        "\\end{bmatrix}\n"
      ],
      "metadata": {
        "id": "fpyuS0W0vMWy"
      }
    },
    {
      "cell_type": "code",
      "execution_count": 6,
      "metadata": {
        "colab": {
          "base_uri": "https://localhost:8080/"
        },
        "id": "RUk1z1j-vCxk",
        "outputId": "ff4693c8-6dd2-4f74-b248-596a3599d1f6"
      },
      "outputs": [
        {
          "output_type": "stream",
          "name": "stdout",
          "text": [
            "[[1, 2, 3], [4, 5, 6], [7, 8, 9]]\n"
          ]
        },
        {
          "output_type": "execute_result",
          "data": {
            "text/plain": [
              "list"
            ]
          },
          "metadata": {},
          "execution_count": 6
        }
      ],
      "source": [
        "A=[[1,2,3], [4,5,6], [7,8,9]]\n",
        "print (A)\n",
        "type(A)"
      ]
    },
    {
      "cell_type": "code",
      "source": [
        "#Vamos a crear otra\n",
        "B=[[21,34,40],[71,17,77],[73,81,28]]\n",
        "print(B)\n",
        "A+B\n"
      ],
      "metadata": {
        "colab": {
          "base_uri": "https://localhost:8080/"
        },
        "id": "z2CBHiSVyp6c",
        "outputId": "0a67acfd-4631-48f6-e5b0-9d925fde124e"
      },
      "execution_count": 12,
      "outputs": [
        {
          "output_type": "stream",
          "name": "stdout",
          "text": [
            "[[21, 34, 40], [71, 17, 77], [73, 81, 28]]\n"
          ]
        },
        {
          "output_type": "execute_result",
          "data": {
            "text/plain": [
              "[[1, 2, 3], [4, 5, 6], [7, 8, 9], [1, 2, 3], [4, 5, 6], [7, 8, 9]]"
            ]
          },
          "metadata": {},
          "execution_count": 12
        }
      ]
    },
    {
      "cell_type": "code",
      "source": [
        "2*A"
      ],
      "metadata": {
        "colab": {
          "base_uri": "https://localhost:8080/"
        },
        "id": "FY-j4PdwzuT7",
        "outputId": "c1f19bab-4672-456e-99f3-1e9bb9fc9022"
      },
      "execution_count": 13,
      "outputs": [
        {
          "output_type": "execute_result",
          "data": {
            "text/plain": [
              "[[1, 2, 3], [4, 5, 6], [7, 8, 9], [1, 2, 3], [4, 5, 6], [7, 8, 9]]"
            ]
          },
          "metadata": {},
          "execution_count": 13
        }
      ]
    },
    {
      "cell_type": "code",
      "source": [
        "A[0][0]\n",
        "#A[0,0]\n",
        "\n"
      ],
      "metadata": {
        "colab": {
          "base_uri": "https://localhost:8080/"
        },
        "id": "fY_VDVD2z75v",
        "outputId": "79cafe7f-1e05-48d0-80fc-36b9ddf7461d"
      },
      "execution_count": 20,
      "outputs": [
        {
          "output_type": "execute_result",
          "data": {
            "text/plain": [
              "1"
            ]
          },
          "metadata": {},
          "execution_count": 20
        }
      ]
    },
    {
      "cell_type": "markdown",
      "source": [
        "##Vectores y Listas"
      ],
      "metadata": {
        "id": "OM-qH4iW1_S0"
      }
    },
    {
      "cell_type": "code",
      "source": [
        "L=A[0]\n",
        "M=B[0]\n"
      ],
      "metadata": {
        "id": "kXAoALx81iex"
      },
      "execution_count": 25,
      "outputs": []
    },
    {
      "cell_type": "code",
      "source": [
        "a=L[0]\n",
        "b=M[0]\n",
        "a+b"
      ],
      "metadata": {
        "colab": {
          "base_uri": "https://localhost:8080/"
        },
        "id": "1_5pVz7Z2F_v",
        "outputId": "83103342-204e-42a4-e6d9-e1f86ffe3108"
      },
      "execution_count": 27,
      "outputs": [
        {
          "output_type": "execute_result",
          "data": {
            "text/plain": [
              "22"
            ]
          },
          "metadata": {},
          "execution_count": 27
        }
      ]
    },
    {
      "cell_type": "code",
      "source": [
        "a==1\n",
        "#Resultado booleano: (true o false)"
      ],
      "metadata": {
        "colab": {
          "base_uri": "https://localhost:8080/"
        },
        "id": "V7yEedUK2X1i",
        "outputId": "28915eb0-ec17-4d81-8cd6-ba6105ecefd4"
      },
      "execution_count": 29,
      "outputs": [
        {
          "output_type": "execute_result",
          "data": {
            "text/plain": [
              "True"
            ]
          },
          "metadata": {},
          "execution_count": 29
        }
      ]
    },
    {
      "cell_type": "markdown",
      "source": [
        "###Suma de \"vectores\""
      ],
      "metadata": {
        "id": "ImYK1Zdu4HVu"
      }
    },
    {
      "cell_type": "code",
      "source": [
        "len(L)==len(M)"
      ],
      "metadata": {
        "colab": {
          "base_uri": "https://localhost:8080/"
        },
        "id": "OKtgS7c74M0j",
        "outputId": "b3b0be55-7ca6-4b47-9535-37633d7d1543"
      },
      "execution_count": 31,
      "outputs": [
        {
          "output_type": "execute_result",
          "data": {
            "text/plain": [
              "True"
            ]
          },
          "metadata": {},
          "execution_count": 31
        }
      ]
    },
    {
      "cell_type": "code",
      "source": [
        "suma=[L[0]+M[0],L[1]+M[1],L[2]+M[2]]\n",
        "suma"
      ],
      "metadata": {
        "colab": {
          "base_uri": "https://localhost:8080/"
        },
        "id": "YAd3w0X64g5I",
        "outputId": "a1d65775-7c1d-4b2b-bbe0-cc3d698fa149"
      },
      "execution_count": 33,
      "outputs": [
        {
          "output_type": "execute_result",
          "data": {
            "text/plain": [
              "[22, 36, 43]"
            ]
          },
          "metadata": {},
          "execution_count": 33
        }
      ]
    },
    {
      "cell_type": "code",
      "source": [
        "suma=[L[i]+M[i] for i in range(3)]"
      ],
      "metadata": {
        "id": "g_3kRYs76XiY"
      },
      "execution_count": 34,
      "outputs": []
    },
    {
      "cell_type": "markdown",
      "source": [
        "#Creación de funciones globales\n",
        "La función para crear funciones es `def` que se cierra con un debug (`print` o `return`)"
      ],
      "metadata": {
        "id": "VJXfMABiEx0b"
      }
    },
    {
      "cell_type": "code",
      "source": [
        " #Es como una funcion static o void\n",
        " def hola():\n",
        "  print(\"Hola, me llamo Cesar\")"
      ],
      "metadata": {
        "id": "1waET1oyGGYZ"
      },
      "execution_count": 37,
      "outputs": []
    },
    {
      "cell_type": "code",
      "source": [
        "hola()"
      ],
      "metadata": {
        "colab": {
          "base_uri": "https://localhost:8080/"
        },
        "id": "dSpjIjoYGPTJ",
        "outputId": "32fb6fcf-1a54-492f-8dbc-a0366e8a84d2"
      },
      "execution_count": 38,
      "outputs": [
        {
          "output_type": "stream",
          "name": "stdout",
          "text": [
            "Hola, me llamo Cesar\n"
          ]
        }
      ]
    },
    {
      "cell_type": "code",
      "source": [
        "#declaras la funcion static\n",
        "def saludar(s,n):\n",
        "  print(f\"Hola, me llamo {s} y tengo {n} años\")"
      ],
      "metadata": {
        "id": "AejAtbD7GexU"
      },
      "execution_count": 45,
      "outputs": []
    },
    {
      "cell_type": "code",
      "source": [
        "saludar(\"Cesar\", 18)"
      ],
      "metadata": {
        "colab": {
          "base_uri": "https://localhost:8080/"
        },
        "id": "UTKkouRhGv4f",
        "outputId": "3ed840e4-3367-4884-b6c9-bfb413a47403"
      },
      "execution_count": 65,
      "outputs": [
        {
          "output_type": "stream",
          "name": "stdout",
          "text": [
            "Hola, me llamo Cesar y tengo 18 años\n"
          ]
        }
      ]
    },
    {
      "cell_type": "code",
      "source": [
        "def par (x):\n",
        "  for x in range(10):\n",
        "    if x%2==0:\n",
        "      print(f\"{x} es par\")\n",
        "    else:\n",
        "      print(f\"{x} es impar\")"
      ],
      "metadata": {
        "id": "x4_gLXBtHKdE"
      },
      "execution_count": 72,
      "outputs": []
    },
    {
      "cell_type": "code",
      "source": [
        "par(7)"
      ],
      "metadata": {
        "colab": {
          "base_uri": "https://localhost:8080/"
        },
        "id": "eU43IAAcI2VP",
        "outputId": "00e50a5a-71fd-41a2-fd68-536c1a751568"
      },
      "execution_count": 74,
      "outputs": [
        {
          "output_type": "stream",
          "name": "stdout",
          "text": [
            "0 es par\n",
            "1 es impar\n",
            "2 es par\n",
            "3 es impar\n",
            "4 es par\n",
            "5 es impar\n",
            "6 es par\n",
            "7 es impar\n",
            "8 es par\n",
            "9 es impar\n"
          ]
        }
      ]
    },
    {
      "cell_type": "code",
      "source": [
        "def suma_vectorial (L,M):\n",
        "  x= [L[i]+M[i] for i in range(len(L))]\n",
        "  return x"
      ],
      "metadata": {
        "id": "lXa49OLBLbrY"
      },
      "execution_count": 75,
      "outputs": []
    },
    {
      "cell_type": "code",
      "source": [
        "L=[1,2,3]\n",
        "M=[21,34,40]\n",
        "suma_vectorial(L,M)"
      ],
      "metadata": {
        "colab": {
          "base_uri": "https://localhost:8080/"
        },
        "id": "tl9GUWaqNG_D",
        "outputId": "1d616a5d-4b23-4680-e32f-421a810b1d87"
      },
      "execution_count": 78,
      "outputs": [
        {
          "output_type": "execute_result",
          "data": {
            "text/plain": [
              "[22, 36, 43]"
            ]
          },
          "metadata": {},
          "execution_count": 78
        }
      ]
    },
    {
      "cell_type": "markdown",
      "source": [
        "##Módulos o librerías"
      ],
      "metadata": {
        "id": "WHPdeHpbOdD8"
      }
    },
    {
      "cell_type": "code",
      "source": [
        "#el asterisco muestra todos los elementos de la librería, from math import *\n",
        "import math\n",
        "from math import sqrt, pi"
      ],
      "metadata": {
        "id": "b_ZtoGygOhhj"
      },
      "execution_count": 79,
      "outputs": []
    },
    {
      "cell_type": "code",
      "source": [
        "sqrt(68)"
      ],
      "metadata": {
        "colab": {
          "base_uri": "https://localhost:8080/"
        },
        "id": "Bs031cbiO0nI",
        "outputId": "230f9659-a516-4bcf-9359-1eefa29ca7ef"
      },
      "execution_count": 80,
      "outputs": [
        {
          "output_type": "execute_result",
          "data": {
            "text/plain": [
              "8.246211251235321"
            ]
          },
          "metadata": {},
          "execution_count": 80
        }
      ]
    },
    {
      "cell_type": "code",
      "source": [
        "pi"
      ],
      "metadata": {
        "colab": {
          "base_uri": "https://localhost:8080/"
        },
        "id": "HdM8RiiZO5PJ",
        "outputId": "95a90653-581a-4732-f4b1-cb3c6446b77a"
      },
      "execution_count": 81,
      "outputs": [
        {
          "output_type": "execute_result",
          "data": {
            "text/plain": [
              "3.141592653589793"
            ]
          },
          "metadata": {},
          "execution_count": 81
        }
      ]
    },
    {
      "cell_type": "markdown",
      "source": [
        "#El módulo NumPy\n",
        "La función `array`"
      ],
      "metadata": {
        "id": "Ywm7ggHJPDCe"
      }
    },
    {
      "cell_type": "code",
      "source": [
        "#La función array es un convertidor, convierte una lista en un vector\n",
        "import numpy as np\n",
        "\n",
        "L_vector= np.array(L)\n",
        "M_vector= np.array(M)\n",
        "\n",
        "L_vector+M_vector"
      ],
      "metadata": {
        "colab": {
          "base_uri": "https://localhost:8080/"
        },
        "id": "huL7gdvBPLzW",
        "outputId": "2982338e-842c-4810-d291-11dacdb13131"
      },
      "execution_count": 82,
      "outputs": [
        {
          "output_type": "execute_result",
          "data": {
            "text/plain": [
              "array([22, 36, 43])"
            ]
          },
          "metadata": {},
          "execution_count": 82
        }
      ]
    },
    {
      "cell_type": "code",
      "source": [
        "#Se escriben las matrices de la siguiente manera y posteriormente se usa el.reshape para comodar la matriz segun la cantidad de filas y columnas\n",
        "C=[9,2,2,2,3,3,2,17,2]\n",
        "A=[8,1,1,1,2,2,1,16,1]\n",
        "\n",
        "C_matriz=np.array(C).reshape(3,3)\n",
        "A_matriz=np.array(A).reshape(3,3)\n",
        "print(C_matriz)\n",
        "print(A_matriz)"
      ],
      "metadata": {
        "colab": {
          "base_uri": "https://localhost:8080/"
        },
        "id": "RI4j26NGQA9u",
        "outputId": "b15c5700-60b4-4755-fb13-42fec3f0517a"
      },
      "execution_count": 86,
      "outputs": [
        {
          "output_type": "stream",
          "name": "stdout",
          "text": [
            "[[ 9  2  2]\n",
            " [ 2  3  3]\n",
            " [ 2 17  2]]\n",
            "[[ 8  1  1]\n",
            " [ 1  2  2]\n",
            " [ 1 16  1]]\n"
          ]
        }
      ]
    },
    {
      "cell_type": "code",
      "source": [
        "#El @ sirve para hacer multiplicación\n",
        "C_matriz @ A_matriz"
      ],
      "metadata": {
        "colab": {
          "base_uri": "https://localhost:8080/"
        },
        "id": "vtPpI4k_Rpah",
        "outputId": "b81b6f8e-d168-47d0-e3e9-02bd1656826b"
      },
      "execution_count": 87,
      "outputs": [
        {
          "output_type": "execute_result",
          "data": {
            "text/plain": [
              "array([[76, 45, 15],\n",
              "       [22, 56, 11],\n",
              "       [35, 68, 38]])"
            ]
          },
          "metadata": {},
          "execution_count": 87
        }
      ]
    },
    {
      "cell_type": "code",
      "source": [
        "#Al no ser conmutativas se hacen las dos operaciones\n",
        "A_matriz @ C_matriz"
      ],
      "metadata": {
        "colab": {
          "base_uri": "https://localhost:8080/"
        },
        "id": "7cKtuRDESMoK",
        "outputId": "69ebe2ca-828e-4710-e0a7-15fe426016eb"
      },
      "execution_count": 88,
      "outputs": [
        {
          "output_type": "execute_result",
          "data": {
            "text/plain": [
              "array([[76, 36, 21],\n",
              "       [17, 42, 12],\n",
              "       [43, 67, 52]])"
            ]
          },
          "metadata": {},
          "execution_count": 88
        }
      ]
    }
  ]
}