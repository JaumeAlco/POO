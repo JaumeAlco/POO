{
  "nbformat": 4,
  "nbformat_minor": 0,
  "metadata": {
    "colab": {
      "provenance": []
    },
    "kernelspec": {
      "name": "python3",
      "display_name": "Python 3"
    },
    "language_info": {
      "name": "python"
    }
  },
  "cells": [
    {
      "cell_type": "code",
      "execution_count": 1,
      "metadata": {
        "colab": {
          "base_uri": "https://localhost:8080/",
          "height": 106
        },
        "id": "wb1VS2P3XyAp",
        "outputId": "98b150be-2ea0-46c6-bb5b-dccf893c8a4a"
      },
      "outputs": [
        {
          "output_type": "error",
          "ename": "SyntaxError",
          "evalue": "invalid syntax (<ipython-input-1-5ea3744de259>, line 1)",
          "traceback": [
            "\u001b[0;36m  File \u001b[0;32m\"<ipython-input-1-5ea3744de259>\"\u001b[0;36m, line \u001b[0;32m1\u001b[0m\n\u001b[0;31m    mport math\u001b[0m\n\u001b[0m          ^\u001b[0m\n\u001b[0;31mSyntaxError\u001b[0m\u001b[0;31m:\u001b[0m invalid syntax\n"
          ]
        }
      ],
      "source": [
        "mport math\n",
        "\n",
        "\n",
        "\n",
        "\n",
        "class Figura:\n",
        "\n",
        "\n",
        "    def __init__(self,nombre):\n",
        "        self.nombre = nombre\n",
        "        self.area = None\n",
        "        self.perimetro = None\n",
        "\n",
        "\n",
        "    def calcular_area(self):\n",
        "        pass\n",
        "\n",
        "\n",
        "    def calcular_perimetro(self):\n",
        "        pass\n",
        "\n",
        "\n",
        "    def mostrarInfo(self):\n",
        "        self.calcular_area()\n",
        "        self.calcular_area()\n",
        "        print(f\"Nombre de la figura {self.nombre}\")\n",
        "        print(f\"Área de la figura {self.area}\")\n",
        "        print(f\"Perímetro de la figura {self.perimetro}\")\n",
        "\n",
        "\n",
        "class Circulo(Figura):\n",
        "    def __init__(self, nombre, radio):\n",
        "        super().__init__(nombre)\n",
        "        self.radio = radio\n",
        "\n",
        "\n",
        "    def calcular_area(self):\n",
        "        return math.pi * self.radio**2\n",
        "\n",
        "\n",
        "\n",
        "\n",
        "    def calcular_perimetro(self):\n",
        "        return 2 * math.pi * self.radio\n",
        "\n",
        "        class Rectangulo(Figura):\n",
        "    def __init__(self, longitud, base):\n",
        "        self.longitud = longitud\n",
        "        self.base = base\n",
        "\n",
        "\n",
        "    def calcular_area(self):\n",
        "        return self.longitud * self.base\n",
        "\n",
        "\n",
        "    def calcular_perimetro(self):\n",
        "        return 2 * (self.longitud + self.base)\n",
        "\n",
        "\n",
        "class Triangulo(Figura):\n",
        "\n",
        "\n",
        "    def __init__(self, base, altura, lado1, lado2, lado3):\n",
        "        self.base = base\n",
        "        self.altura = altura\n",
        "        self.lado1 = lado1\n",
        "        self.lado2 = lado2\n",
        "        self.lado3 = lado3\n",
        "\n",
        "\n",
        "    def calcular_area(self):\n",
        "        return 0.5 * self.base * self.altura\n",
        "\n",
        "\n",
        "    def calcular_perimetro(self):\n",
        "        return self.lado1 + self.lado2 + self.lado3\n"
      ]
    },
    {
      "cell_type": "code",
      "source": [
        "import Figures\n",
        "form Figures import\n",
        "fig_1= Figura(\"circulo\")\n",
        "circulo=Circulo(\"circulo, 2\")\n",
        "circulo"
      ],
      "metadata": {
        "id": "1yvTGs_uZ1mb"
      },
      "execution_count": null,
      "outputs": []
    },
    {
      "cell_type": "code",
      "source": [],
      "metadata": {
        "id": "QBMxIXvfaJ-Q"
      },
      "execution_count": null,
      "outputs": []
    }
  ]
}