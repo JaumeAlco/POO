{
  "nbformat": 4,
  "nbformat_minor": 0,
  "metadata": {
    "colab": {
      "provenance": []
    },
    "kernelspec": {
      "name": "python3",
      "display_name": "Python 3"
    },
    "language_info": {
      "name": "python"
    }
  },
  "cells": [
    {
      "cell_type": "code",
      "execution_count": null,
      "metadata": {
        "colab": {
          "base_uri": "https://localhost:8080/"
        },
        "id": "pKBCmo1d4ZCh",
        "outputId": "dddfda34-f4cc-45a7-8506-2d220e760780"
      },
      "outputs": [
        {
          "output_type": "stream",
          "name": "stdout",
          "text": [
            "Hola Mundo\n"
          ]
        }
      ],
      "source": [
        "#Imprime \"Hola, Mundo!\" en la consola\n",
        "print(\"Hola Mundo\")"
      ]
    },
    {
      "cell_type": "code",
      "source": [
        "#Declara una variable llamada nombre e imprime su valor\n",
        "nombre= str (\"Jaume\")\n",
        "print(nombre)"
      ],
      "metadata": {
        "colab": {
          "base_uri": "https://localhost:8080/"
        },
        "id": "TvDnYy1_4quI",
        "outputId": "f048439d-bb2f-4978-d384-aa2f6d8e4922"
      },
      "execution_count": null,
      "outputs": [
        {
          "output_type": "stream",
          "name": "stdout",
          "text": [
            "Jaume\n"
          ]
        }
      ]
    },
    {
      "cell_type": "code",
      "source": [
        "#Pide al usuario que ingrese un número e imprime su doble\n",
        "numero = int(input(\"Ingresa un número: \"))\n",
        "print(\"Doble: \", numero * 2)"
      ],
      "metadata": {
        "colab": {
          "base_uri": "https://localhost:8080/"
        },
        "id": "pSQmnseu5cX0",
        "outputId": "2a5255c0-4db8-4506-e86f-e238c2cf9200"
      },
      "execution_count": null,
      "outputs": [
        {
          "output_type": "stream",
          "name": "stdout",
          "text": [
            "Ingresa un número: 4\n",
            "Doble:  8\n"
          ]
        }
      ]
    },
    {
      "cell_type": "code",
      "source": [
        "#Escribe un programa que sume dos n´umeros ingresados por el usuario\n",
        "numero1= int(input(\"Ingresa un número: \"))\n",
        "numero2 = int(input(\"Ingresa otro número: \"))\n",
        "print(\"Suma: \", numero1 + numero2)"
      ],
      "metadata": {
        "colab": {
          "base_uri": "https://localhost:8080/"
        },
        "id": "E8bi2Mvq5k66",
        "outputId": "09ed25f6-522d-4e36-d67a-66b78b1ed489"
      },
      "execution_count": null,
      "outputs": [
        {
          "output_type": "stream",
          "name": "stdout",
          "text": [
            "Ingresa un número: 3\n",
            "Ingresa otro número: 4\n",
            "Suma:  7\n"
          ]
        }
      ]
    },
    {
      "cell_type": "code",
      "source": [
        "#Crea una lista con cinco números y muestra el primer y último elemento\n",
        "numeros = [1, 2, 3, 4, 5]\n",
        "print(\"Primer elemento:\", numeros[0])\n",
        "print(\"Último elemento:\", numeros[4])"
      ],
      "metadata": {
        "colab": {
          "base_uri": "https://localhost:8080/"
        },
        "id": "91jSP3nS529b",
        "outputId": "a825cff7-1d37-473f-bff4-be7053a87afe"
      },
      "execution_count": null,
      "outputs": [
        {
          "output_type": "stream",
          "name": "stdout",
          "text": [
            "Primer elemento: 1\n",
            "Último elemento: 5\n"
          ]
        }
      ]
    },
    {
      "cell_type": "code",
      "source": [
        "#Escribe un programa que verifique si un número es par o impar\n",
        "num = int(input(\"Ingresa un número: \"))\n",
        "\n",
        "if num % 2 == 0:\n",
        "    print(\"El número es par\")\n",
        "else:\n",
        "    print(\"El número es impar\")"
      ],
      "metadata": {
        "colab": {
          "base_uri": "https://localhost:8080/"
        },
        "id": "rlQ0C1yK6LL5",
        "outputId": "9d69f521-b849-4153-c6c3-93e53010815a"
      },
      "execution_count": null,
      "outputs": [
        {
          "output_type": "stream",
          "name": "stdout",
          "text": [
            "Ingresa un número: 5\n",
            "El número es impar\n"
          ]
        }
      ]
    },
    {
      "cell_type": "code",
      "source": [
        "#Escribe un bucle que imprima los números del 1 al 10\n",
        "for i in range(1, 11):\n",
        "    print(i)"
      ],
      "metadata": {
        "colab": {
          "base_uri": "https://localhost:8080/"
        },
        "id": "oZWJuI4a6Zqe",
        "outputId": "5aa2ea33-a616-4ce8-a958-858884ec67aa"
      },
      "execution_count": null,
      "outputs": [
        {
          "output_type": "stream",
          "name": "stdout",
          "text": [
            "1\n",
            "2\n",
            "3\n",
            "4\n",
            "5\n",
            "6\n",
            "7\n",
            "8\n",
            "9\n",
            "10\n"
          ]
        }
      ]
    },
    {
      "cell_type": "code",
      "source": [
        "#Calcula la suma de los primeros 100 números naturales\n",
        "suma=0\n",
        "for i in range(1, 101):\n",
        "    suma= suma + i\n",
        "print(\"La suma de los primeros 100 números naturales es:\", suma)"
      ],
      "metadata": {
        "colab": {
          "base_uri": "https://localhost:8080/"
        },
        "id": "YWmf7a8J7U1J",
        "outputId": "faecc78f-6c4d-4108-f853-1f89a9907aed"
      },
      "execution_count": 42,
      "outputs": [
        {
          "output_type": "stream",
          "name": "stdout",
          "text": [
            "La suma de los primeros 100 números naturales es: 5050\n"
          ]
        }
      ]
    },
    {
      "cell_type": "code",
      "source": [
        "#Crea una función que reciba un número y devuelva su cuadrado\n",
        "nume = int(input(\"Ingresa un número: \"))\n",
        "print(\"Cuadrado: \", nume * nume)"
      ],
      "metadata": {
        "colab": {
          "base_uri": "https://localhost:8080/"
        },
        "id": "B-aXv0Qe8Emk",
        "outputId": "1f84f9fb-7507-44e4-9a47-bf81f7b3c45c"
      },
      "execution_count": null,
      "outputs": [
        {
          "output_type": "stream",
          "name": "stdout",
          "text": [
            "Ingresa un número: 6\n",
            "Cuadrado:  36\n"
          ]
        }
      ]
    },
    {
      "cell_type": "code",
      "source": [
        "#Escribe un programa que cuente cuántas vocales tiene una cadena de texto\n",
        "cadena = input(\"Ingresa una cadena de texto: \")\n",
        "vocales = \"aeiouAEIOU\"\n",
        "contador = 0\n",
        "for letra in cadena:\n",
        "    if letra in vocales:\n",
        "        contador = contador+ 1\n",
        "print(\"La cadena de texto tiene\", contador, \"vocales\")"
      ],
      "metadata": {
        "colab": {
          "base_uri": "https://localhost:8080/"
        },
        "id": "oxsLFVgX8bP8",
        "outputId": "433ad15f-576a-4be3-cb67-4b4f7de1ad43"
      },
      "execution_count": 64,
      "outputs": [
        {
          "output_type": "stream",
          "name": "stdout",
          "text": [
            "Ingresa una cadena de texto: jaume\n",
            "La cadena de texto tiene 3 vocales\n"
          ]
        }
      ]
    },
    {
      "cell_type": "code",
      "source": [
        "#Crea una lista de números del 1 al 10 y muestra solo los pares\n",
        "for i in range(1, 11):\n",
        "  if i%2==0:\n",
        "    print(i)"
      ],
      "metadata": {
        "colab": {
          "base_uri": "https://localhost:8080/"
        },
        "id": "UWLbgvS49N1g",
        "outputId": "1f2775bf-a076-4c32-9733-9d8bdc7353c1"
      },
      "execution_count": null,
      "outputs": [
        {
          "output_type": "stream",
          "name": "stdout",
          "text": [
            "2\n",
            "4\n",
            "6\n",
            "8\n",
            "10\n"
          ]
        }
      ]
    },
    {
      "cell_type": "code",
      "source": [
        "#Crea un diccionario que relacione nombres de personas con su edad y muestra la edad de una persona específica\n",
        "edad={\n",
        "    \"Jaume\": 18,\n",
        "    \"Juanma\": 19,\n",
        "    \"Ceci\": 20,\n",
        "    \"Walter\": 21,\n",
        "}\n",
        "nombre= input(\"Ingresa el nombre de la persona: \")\n",
        "\n",
        "if nombre in edad:\n",
        "  print(f\"La edad de\", nombre, \"es\", edad[nombre],\"años\")\n",
        "else:\n",
        "  print(f\"No se encontró la persona en el diccionario\")\n",
        "\n",
        "\n"
      ],
      "metadata": {
        "colab": {
          "base_uri": "https://localhost:8080/"
        },
        "id": "h8hQaGJm9ecj",
        "outputId": "88ade721-2768-4672-cd65-1943482aa57d"
      },
      "execution_count": 35,
      "outputs": [
        {
          "output_type": "stream",
          "name": "stdout",
          "text": [
            "Ingresa el nombre de la persona: Ceci\n",
            "La edad de Ceci es 20 años\n"
          ]
        }
      ]
    },
    {
      "cell_type": "code",
      "source": [
        "#Escribe un programa que encuentre el número más grande en una lista\n",
        "numeros = [1, 4, 7, 2, 8, 5]\n",
        "mayor = numeros[0]\n",
        "\n",
        "for num in numeros:\n",
        "    if num > mayor:\n",
        "        mayor = num\n",
        "\n",
        "print(\"El número más grande de la lista es:\", mayor)\n",
        "\n",
        "\n"
      ],
      "metadata": {
        "colab": {
          "base_uri": "https://localhost:8080/"
        },
        "id": "WBbnPGqo_ywX",
        "outputId": "9fe431ff-38fe-4fe0-ad40-f44e44e9cb62"
      },
      "execution_count": 49,
      "outputs": [
        {
          "output_type": "stream",
          "name": "stdout",
          "text": [
            "El número más grande de la lista es: 8\n"
          ]
        }
      ]
    },
    {
      "cell_type": "code",
      "source": [
        "#Escribe una función que tome una lista de números y devuelva su promedio\n",
        "def calcular_promedio(numeros):\n",
        "    if len(numeros) == 0:\n",
        "        return 0\n",
        "    return sum(numeros) / len(numeros)\n",
        "\n",
        "lista_numeros = [10, 20, 30, 40, 50]\n",
        "promedio = calcular_promedio(lista_numeros)\n",
        "print(\"El promedio es:\", promedio)"
      ],
      "metadata": {
        "colab": {
          "base_uri": "https://localhost:8080/"
        },
        "id": "OSAfwnSYBxxW",
        "outputId": "d683d464-56c7-4596-ec9a-36a87b6e010f"
      },
      "execution_count": 55,
      "outputs": [
        {
          "output_type": "stream",
          "name": "stdout",
          "text": [
            "El promedio es: 30.0\n"
          ]
        }
      ]
    },
    {
      "cell_type": "code",
      "source": [
        "#Escribe un programa que verifique si una palabra es un palíndromo\n",
        "palabra = input(\"Ingresa una palabra: \")\n",
        "\n",
        "if palabra == palabra[::-1]:\n",
        "    print(\"La palabra es un palíndromo\")\n",
        "else:\n",
        "    print(\"La palabra no es un palíndromo\")\n"
      ],
      "metadata": {
        "colab": {
          "base_uri": "https://localhost:8080/"
        },
        "id": "wkYADYWHEKCD",
        "outputId": "83aa86e4-a119-4475-b7d3-d523af29d8a1"
      },
      "execution_count": 61,
      "outputs": [
        {
          "output_type": "stream",
          "name": "stdout",
          "text": [
            "Ingresa una palabra: ana\n",
            "La palabra es un palíndromo\n"
          ]
        }
      ]
    },
    {
      "cell_type": "code",
      "source": [
        "#Crea una función que tome dos números y devuelva el mayor\n",
        "def mayor(num1, num2):\n",
        "    if num1 > num2:\n",
        "        return num1\n",
        "    else:\n",
        "        return num2\n",
        "\n",
        "# Ejemplo de uso\n",
        "numero1 = 11\n",
        "numero2 = 2\n",
        "resultado = mayor(numero1, numero2)\n",
        "print(\"El número mayor es:\", resultado)"
      ],
      "metadata": {
        "colab": {
          "base_uri": "https://localhost:8080/"
        },
        "id": "-LtHHRCIEd_E",
        "outputId": "23804633-2f7f-4162-ee0f-f61e822d7096"
      },
      "execution_count": 63,
      "outputs": [
        {
          "output_type": "stream",
          "name": "stdout",
          "text": [
            "El número mayor es: 11\n"
          ]
        }
      ]
    },
    {
      "cell_type": "code",
      "source": [
        "#Escribe un programa que genere la tabla de multiplicar de un número ingresado por el usuario\n",
        "numero = int(input(\"Ingresa un número: \"))\n",
        "\n",
        "for i in range(1, 11):\n",
        "    print(numero, \"x\", i, \"=\", numero * i)"
      ],
      "metadata": {
        "colab": {
          "base_uri": "https://localhost:8080/"
        },
        "id": "V3ar84haFAKv",
        "outputId": "04cdd1ed-4d14-4857-9e07-f953d0d6b13c"
      },
      "execution_count": 76,
      "outputs": [
        {
          "output_type": "stream",
          "name": "stdout",
          "text": [
            "Ingresa un número: 142\n",
            "142 x 1 = 142\n",
            "142 x 2 = 284\n",
            "142 x 3 = 426\n",
            "142 x 4 = 568\n",
            "142 x 5 = 710\n",
            "142 x 6 = 852\n",
            "142 x 7 = 994\n",
            "142 x 8 = 1136\n",
            "142 x 9 = 1278\n",
            "142 x 10 = 1420\n"
          ]
        }
      ]
    },
    {
      "cell_type": "code",
      "source": [
        "#Crea una función que devuelva los números primos hasta un número dado\n",
        "def es_primo(numero):\n",
        "    if numero <= 1:\n",
        "        return False\n",
        "    for i in range(2, int(numero ** 0.5) + 1):\n",
        "        if numero % i == 0:\n",
        "            return False\n",
        "    return True\n",
        "\n",
        "def primos_hasta(n):\n",
        "    primos = []\n",
        "    for i in range(2, n + 1):\n",
        "        if es_primo(i):\n",
        "            primos.append(i)\n",
        "    return primos\n",
        "\n",
        "numero = 20\n",
        "resultado = primos_hasta(numero)\n",
        "print(f\"Los números primos hasta {numero} son:\", resultado)\n"
      ],
      "metadata": {
        "colab": {
          "base_uri": "https://localhost:8080/"
        },
        "id": "Pnjfgi0kGOEF",
        "outputId": "cc2d7004-865c-4f04-bb63-1ee1c9efebbc"
      },
      "execution_count": 69,
      "outputs": [
        {
          "output_type": "stream",
          "name": "stdout",
          "text": [
            "Los números primos hasta 20 son: [2, 3, 5, 7, 11, 13, 17, 19]\n"
          ]
        }
      ]
    },
    {
      "cell_type": "code",
      "source": [
        "#Escribe un programa que ordene una lista de números de menor a mayor sin usar funciones predefinidas\n",
        "def ordenar_lista(numeros):\n",
        "    n = len(numeros)\n",
        "    for i in range(n):\n",
        "        for j in range(0, n-i-1):\n",
        "            if numeros[j] > numeros[j+1]:\n",
        "                numeros[j], numeros[j+1] = numeros[j+1], numeros[j]\n",
        "    return numeros\n",
        "\n",
        "lista_numeros = [4, 1, 5, 3, 7, 2, 9]\n",
        "lista_ordenada = ordenar_lista(lista_numeros)\n",
        "print(\"Lista ordenada de menor a mayor:\", lista_ordenada)"
      ],
      "metadata": {
        "colab": {
          "base_uri": "https://localhost:8080/"
        },
        "id": "dVcA1BmvHUSI",
        "outputId": "43f0a550-68b9-46f5-a31d-a97e141939f8"
      },
      "execution_count": 71,
      "outputs": [
        {
          "output_type": "stream",
          "name": "stdout",
          "text": [
            "Lista ordenada de menor a mayor: [1, 2, 3, 4, 5, 7, 9]\n"
          ]
        }
      ]
    },
    {
      "cell_type": "code",
      "source": [
        "#Escribe un programa que simule un juego de adivinar un número entre 1 y 100\n",
        "import random\n",
        "\n",
        "def adivina_el_numero():\n",
        "    numero_aleatorio = random.randint(1, 100)\n",
        "    intentos = 0\n",
        "    print(\"Adivina un número entre 1 y 100.\")\n",
        "\n",
        "    while True:\n",
        "        intento = int(input(\"Introduce tu suposición: \"))\n",
        "        intentos += 1\n",
        "\n",
        "        if intento < numero_aleatorio:\n",
        "            print(\"Demasiado bajo.\")\n",
        "        elif intento > numero_aleatorio:\n",
        "            print(\"Demasiado alto.\")\n",
        "        else:\n",
        "            print(f\"¡Felicidades! Adivinaste el número en {intentos} intentos.\")\n",
        "            break\n",
        "\n",
        "# Iniciar el juego\n",
        "adivina_el_numero()"
      ],
      "metadata": {
        "colab": {
          "base_uri": "https://localhost:8080/"
        },
        "id": "qBnSg9wTIIJ0",
        "outputId": "106d4d91-f43e-4b09-940b-a19fbc1b1b31"
      },
      "execution_count": 75,
      "outputs": [
        {
          "output_type": "stream",
          "name": "stdout",
          "text": [
            "¡Bienvenido al juego! Adivina un número entre 1 y 100.\n",
            "Introduce tu suposición: 42\n",
            "Demasiado alto.\n",
            "Introduce tu suposición: 30\n",
            "Demasiado alto.\n",
            "Introduce tu suposición: 15\n",
            "Demasiado bajo.\n",
            "Introduce tu suposición: 22\n",
            "¡Felicidades! Adivinaste el número en 4 intentos.\n"
          ]
        }
      ]
    }
  ]
}