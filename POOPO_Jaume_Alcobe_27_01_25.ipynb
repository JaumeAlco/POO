{
  "nbformat": 4,
  "nbformat_minor": 0,
  "metadata": {
    "colab": {
      "provenance": []
    },
    "kernelspec": {
      "name": "python3",
      "display_name": "Python 3"
    },
    "language_info": {
      "name": "python"
    }
  },
  "cells": [
    {
      "cell_type": "code",
      "execution_count": null,
      "metadata": {
        "id": "mOG18hf4hKrm"
      },
      "outputs": [],
      "source": []
    },
    {
      "cell_type": "markdown",
      "source": [
        "\n",
        "# Conjuntos y listas\n",
        "\n",
        "\n",
        "\n",
        "- Conjuntos finitos:\n",
        "$$\\{o_1, o_2, \\dots, o_n \\}$$\n",
        "\n",
        "- Listas finitas:\n",
        "$$[l_1, l_2, \\dots, l_n ]$$\n",
        "\n",
        "\n"
      ],
      "metadata": {
        "id": "SBT6WsVLhxH2"
      }
    },
    {
      "cell_type": "markdown",
      "source": [
        "En Python, existe la función `range(a,b)`donde $a,b\\geq 0$"
      ],
      "metadata": {
        "id": "yCqP7843j5zC"
      }
    },
    {
      "cell_type": "markdown",
      "source": [],
      "metadata": {
        "id": "WhKlK0cEj73o"
      }
    },
    {
      "cell_type": "markdown",
      "source": [
        "#*Los objetos en Python tienen atributos*"
      ],
      "metadata": {
        "id": "SQytFrzNj96x"
      }
    },
    {
      "cell_type": "code",
      "source": [
        "range(10)"
      ],
      "metadata": {
        "colab": {
          "base_uri": "https://localhost:8080/"
        },
        "id": "u6Ab7tfwkEUH",
        "outputId": "b4956291-d564-4e0b-abef-1e9129ae333c"
      },
      "execution_count": 1,
      "outputs": [
        {
          "output_type": "execute_result",
          "data": {
            "text/plain": [
              "range(0, 10)"
            ]
          },
          "metadata": {},
          "execution_count": 1
        }
      ]
    },
    {
      "cell_type": "code",
      "source": [
        "for i in range(10) :\n",
        "  print(i)"
      ],
      "metadata": {
        "colab": {
          "base_uri": "https://localhost:8080/"
        },
        "id": "jY1A1fhTkHdK",
        "outputId": "775aceed-5f5c-4ad1-95b8-813ffd98fd6f"
      },
      "execution_count": 2,
      "outputs": [
        {
          "output_type": "stream",
          "name": "stdout",
          "text": [
            "0\n",
            "1\n",
            "2\n",
            "3\n",
            "4\n",
            "5\n",
            "6\n",
            "7\n",
            "8\n",
            "9\n"
          ]
        }
      ]
    },
    {
      "cell_type": "code",
      "source": [
        "# Vamos a construir dos conjuntos\n",
        "\n",
        "Pares = {i for i in range(21) if  i%2==0}\n",
        "print(f\"Pares: {Pares}\")\n",
        "\n",
        "Impares = {i for i in range(21) if  i%2==1}\n",
        "print(f\"Impares: {Impares}\")"
      ],
      "metadata": {
        "colab": {
          "base_uri": "https://localhost:8080/"
        },
        "id": "JrlMP-4jkVrm",
        "outputId": "cf9164ee-0076-4518-dc82-5f0d5812a75d"
      },
      "execution_count": 3,
      "outputs": [
        {
          "output_type": "stream",
          "name": "stdout",
          "text": [
            "Pares: {0, 2, 4, 6, 8, 10, 12, 14, 16, 18, 20}\n",
            "Impares: {1, 3, 5, 7, 9, 11, 13, 15, 17, 19}\n"
          ]
        }
      ]
    },
    {
      "cell_type": "code",
      "source": [
        "C = {17, 7, 27, 19, 77, 56, 8, 12, 10, 13, 20, 16}\n",
        "C, type(C)"
      ],
      "metadata": {
        "colab": {
          "base_uri": "https://localhost:8080/"
        },
        "id": "wYOTIu6dkafy",
        "outputId": "9eabd875-68fb-4c4f-9f2d-075ade05d3b0"
      },
      "execution_count": 4,
      "outputs": [
        {
          "output_type": "execute_result",
          "data": {
            "text/plain": [
              "({7, 8, 10, 12, 13, 16, 17, 19, 20, 27, 56, 77}, set)"
            ]
          },
          "metadata": {},
          "execution_count": 4
        }
      ]
    },
    {
      "cell_type": "code",
      "source": [
        "Pares.intersection(Impares) #El conjunto vacío"
      ],
      "metadata": {
        "colab": {
          "base_uri": "https://localhost:8080/"
        },
        "id": "L5-jA_sckdrq",
        "outputId": "ad9ada7c-9a39-437d-f45d-59d06ef5d9af"
      },
      "execution_count": 6,
      "outputs": [
        {
          "output_type": "execute_result",
          "data": {
            "text/plain": [
              "set()"
            ]
          },
          "metadata": {},
          "execution_count": 6
        }
      ]
    },
    {
      "cell_type": "code",
      "source": [
        "Pares.union(Impares)"
      ],
      "metadata": {
        "colab": {
          "base_uri": "https://localhost:8080/"
        },
        "id": "9xePJz7skndP",
        "outputId": "a00ee3a6-35d1-4a88-f16d-760abc80e050"
      },
      "execution_count": 7,
      "outputs": [
        {
          "output_type": "execute_result",
          "data": {
            "text/plain": [
              "{0, 1, 2, 3, 4, 5, 6, 7, 8, 9, 10, 11, 12, 13, 14, 15, 16, 17, 18, 19, 20}"
            ]
          },
          "metadata": {},
          "execution_count": 7
        }
      ]
    },
    {
      "cell_type": "code",
      "source": [
        "Impares.difference(C) #Quitando los elementos de C a los Impares"
      ],
      "metadata": {
        "colab": {
          "base_uri": "https://localhost:8080/"
        },
        "id": "MztZnltikqbz",
        "outputId": "6da1aa07-2ddc-4f64-f9f5-35bbae8f4afe"
      },
      "execution_count": 8,
      "outputs": [
        {
          "output_type": "execute_result",
          "data": {
            "text/plain": [
              "{1, 3, 5, 9, 11, 15}"
            ]
          },
          "metadata": {},
          "execution_count": 8
        }
      ]
    },
    {
      "cell_type": "code",
      "source": [
        "Lista_pares = list(Pares)\n",
        "Lista_pares"
      ],
      "metadata": {
        "colab": {
          "base_uri": "https://localhost:8080/"
        },
        "id": "28tLzPWvkvOr",
        "outputId": "71e36d13-b6b7-45cd-f9bf-b1770ce6417d"
      },
      "execution_count": 9,
      "outputs": [
        {
          "output_type": "execute_result",
          "data": {
            "text/plain": [
              "[0, 2, 4, 6, 8, 10, 12, 14, 16, 18, 20]"
            ]
          },
          "metadata": {},
          "execution_count": 9
        }
      ]
    }
  ]
}