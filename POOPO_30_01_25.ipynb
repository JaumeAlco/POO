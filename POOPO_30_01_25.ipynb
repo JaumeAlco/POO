{
  "nbformat": 4,
  "nbformat_minor": 0,
  "metadata": {
    "colab": {
      "provenance": []
    },
    "kernelspec": {
      "name": "python3",
      "display_name": "Python 3"
    },
    "language_info": {
      "name": "python"
    }
  },
  "cells": [
    {
      "cell_type": "code",
      "execution_count": null,
      "metadata": {
        "id": "HCDP4Fk3rv7P"
      },
      "outputs": [],
      "source": []
    },
    {
      "cell_type": "markdown",
      "source": [
        "#Listas e ingresos a Listas"
      ],
      "metadata": {
        "id": "_Idb99jSsR4F"
      }
    },
    {
      "cell_type": "markdown",
      "source": [
        "range(a,b) donde a y b son enteros\n",
        "\n",
        "\n",
        "\n",
        "1.  $a\\geq 0 $\n",
        "2.    $b\\geq 0 $\n",
        "\n",
        "3. $a\\le b$\n",
        "\n"
      ],
      "metadata": {
        "id": "ltHylVhru5bz"
      }
    },
    {
      "cell_type": "code",
      "source": [
        "range(10)\n",
        "type (range(10))\n"
      ],
      "metadata": {
        "colab": {
          "base_uri": "https://localhost:8080/"
        },
        "id": "v8TF5IoDx86j",
        "outputId": "a0fa8a2f-fd36-45a0-a047-8f8c1e9ba322"
      },
      "execution_count": null,
      "outputs": [
        {
          "output_type": "execute_result",
          "data": {
            "text/plain": [
              "range"
            ]
          },
          "metadata": {},
          "execution_count": 4
        }
      ]
    },
    {
      "cell_type": "markdown",
      "source": [
        "La función range contiene el generador de índices o etiquetas en Python. Para ver que elementos tiene el range, usamos un for."
      ],
      "metadata": {
        "id": "dUUyGhsM1WDH"
      }
    },
    {
      "cell_type": "markdown",
      "source": [
        "lista =list(Pares)"
      ],
      "metadata": {
        "id": "lpVOwnh4ATai"
      }
    },
    {
      "cell_type": "code",
      "source": [
        "for  i in range(10):\n",
        "  print(i)"
      ],
      "metadata": {
        "colab": {
          "base_uri": "https://localhost:8080/"
        },
        "id": "CV3y-w5xzE8u",
        "outputId": "e2821527-dd38-4cb2-8829-a2aa3919a5cc"
      },
      "execution_count": null,
      "outputs": [
        {
          "output_type": "stream",
          "name": "stdout",
          "text": [
            "0\n",
            "1\n",
            "2\n",
            "3\n",
            "4\n",
            "5\n",
            "6\n",
            "7\n",
            "8\n",
            "9\n"
          ]
        }
      ]
    },
    {
      "cell_type": "code",
      "source": [
        "\n",
        "x=7\n",
        "str(x)\n",
        "float(x)"
      ],
      "metadata": {
        "colab": {
          "base_uri": "https://localhost:8080/"
        },
        "id": "rhmD50Ga1kzE",
        "outputId": "0a443f99-707d-4181-e0ec-23aa8a4c3f9f"
      },
      "execution_count": null,
      "outputs": [
        {
          "output_type": "execute_result",
          "data": {
            "text/plain": [
              "7.0"
            ]
          },
          "metadata": {},
          "execution_count": 7
        }
      ]
    },
    {
      "cell_type": "code",
      "source": [
        "y=7\n",
        "int(y)"
      ],
      "metadata": {
        "colab": {
          "base_uri": "https://localhost:8080/"
        },
        "id": "AOQqWpV-1wBU",
        "outputId": "c9affaf9-bf8e-4f0d-d4d1-62593b72c124"
      },
      "execution_count": null,
      "outputs": [
        {
          "output_type": "execute_result",
          "data": {
            "text/plain": [
              "7"
            ]
          },
          "metadata": {},
          "execution_count": 8
        }
      ]
    },
    {
      "cell_type": "code",
      "source": [
        "#No se puede transformar caracteres a int o float\n",
        "hola=\"Hola Mundo\"\n",
        "int (hola)"
      ],
      "metadata": {
        "colab": {
          "base_uri": "https://localhost:8080/",
          "height": 176
        },
        "id": "_lcs5ITn2GmD",
        "outputId": "b83d0ab3-b0f5-4e2d-b409-a07048687860"
      },
      "execution_count": 11,
      "outputs": [
        {
          "output_type": "error",
          "ename": "ValueError",
          "evalue": "invalid literal for int() with base 10: 'Hola Mundo'",
          "traceback": [
            "\u001b[0;31m---------------------------------------------------------------------------\u001b[0m",
            "\u001b[0;31mValueError\u001b[0m                                Traceback (most recent call last)",
            "\u001b[0;32m<ipython-input-11-988198e626d7>\u001b[0m in \u001b[0;36m<cell line: 0>\u001b[0;34m()\u001b[0m\n\u001b[1;32m      1\u001b[0m \u001b[0;31m#No se puede transformar caracteres a int o float\u001b[0m\u001b[0;34m\u001b[0m\u001b[0;34m\u001b[0m\u001b[0m\n\u001b[1;32m      2\u001b[0m \u001b[0mhola\u001b[0m\u001b[0;34m=\u001b[0m\u001b[0;34m\"Hola Mundo\"\u001b[0m\u001b[0;34m\u001b[0m\u001b[0;34m\u001b[0m\u001b[0m\n\u001b[0;32m----> 3\u001b[0;31m \u001b[0mint\u001b[0m \u001b[0;34m(\u001b[0m\u001b[0mhola\u001b[0m\u001b[0;34m)\u001b[0m\u001b[0;34m\u001b[0m\u001b[0;34m\u001b[0m\u001b[0m\n\u001b[0m",
            "\u001b[0;31mValueError\u001b[0m: invalid literal for int() with base 10: 'Hola Mundo'"
          ]
        }
      ]
    },
    {
      "cell_type": "markdown",
      "source": [
        "Si $A$ un conjunto, sea $a\\in A$"
      ],
      "metadata": {
        "id": "90SybZB7_8vV"
      }
    },
    {
      "cell_type": "code",
      "source": [
        "Indices =[i for i in range(0,10)]\n",
        "Indices\n"
      ],
      "metadata": {
        "colab": {
          "base_uri": "https://localhost:8080/"
        },
        "id": "BCflG48s_lJt",
        "outputId": "ff126d88-21d2-4b71-c116-6448f06216a6"
      },
      "execution_count": 17,
      "outputs": [
        {
          "output_type": "execute_result",
          "data": {
            "text/plain": [
              "[0, 1, 2, 3, 4, 5, 6, 7, 8, 9]"
            ]
          },
          "metadata": {},
          "execution_count": 17
        }
      ]
    },
    {
      "cell_type": "code",
      "source": [
        "Indices=[i for i in range(0,21)]\n",
        "print(f\"Etiquetas: {Indices}\")\n",
        "Multiplos_3=[i for i in range(0,21) if i%3==0]\n",
        "print(f\"Multiplos_3: {Multiplos_3}\")"
      ],
      "metadata": {
        "colab": {
          "base_uri": "https://localhost:8080/"
        },
        "id": "M4KZ2WycBGrr",
        "outputId": "0c43921a-15a3-426d-efaa-493b1276e652"
      },
      "execution_count": 20,
      "outputs": [
        {
          "output_type": "stream",
          "name": "stdout",
          "text": [
            "Etiquetas: [0, 1, 2, 3, 4, 5, 6, 7, 8, 9, 10, 11, 12, 13, 14, 15, 16, 17, 18, 19, 20]\n",
            "Multiplos_3: [0, 3, 6, 9, 12, 15, 18]\n"
          ]
        }
      ]
    },
    {
      "cell_type": "code",
      "source": [
        "print(f\"Estas son las etiquetas en Python {Indices}\")\n",
        "print(\"Indices\")"
      ],
      "metadata": {
        "colab": {
          "base_uri": "https://localhost:8080/"
        },
        "id": "xayLfjh4DoAc",
        "outputId": "46828ccb-b440-4982-b042-134af3160f9f"
      },
      "execution_count": 23,
      "outputs": [
        {
          "output_type": "stream",
          "name": "stdout",
          "text": [
            "Estas son las etiquetas en Python [0, 1, 2, 3, 4, 5, 6, 7, 8, 9, 10, 11, 12, 13, 14, 15, 16, 17, 18, 19, 20]\n",
            "Indices\n"
          ]
        }
      ]
    },
    {
      "cell_type": "code",
      "source": [
        "Ceci=[]\n",
        "Ceci.append(18)"
      ],
      "metadata": {
        "id": "ynLnS-jwFal3"
      },
      "execution_count": 69,
      "outputs": []
    },
    {
      "cell_type": "code",
      "source": [
        "Ceci.insert(1,\"Violin\")"
      ],
      "metadata": {
        "id": "tF1yC4leGgJp"
      },
      "execution_count": 71,
      "outputs": []
    },
    {
      "cell_type": "code",
      "source": [
        "Ceci.append(1.62)"
      ],
      "metadata": {
        "id": "68TvIZ_xHdGp"
      },
      "execution_count": 72,
      "outputs": []
    },
    {
      "cell_type": "code",
      "source": [
        "Ceci"
      ],
      "metadata": {
        "colab": {
          "base_uri": "https://localhost:8080/"
        },
        "id": "qIKBUXRMHgwF",
        "outputId": "c483fdde-6543-49d7-dcfb-d873b1e47a7c"
      },
      "execution_count": 73,
      "outputs": [
        {
          "output_type": "execute_result",
          "data": {
            "text/plain": [
              "[18, 'Violin', 1.62]"
            ]
          },
          "metadata": {},
          "execution_count": 73
        }
      ]
    },
    {
      "cell_type": "code",
      "source": [
        "Ceci.insert(4,\"Perro\")"
      ],
      "metadata": {
        "id": "CmhLZCqeInJn"
      },
      "execution_count": 74,
      "outputs": []
    },
    {
      "cell_type": "code",
      "source": [
        "Ceci"
      ],
      "metadata": {
        "colab": {
          "base_uri": "https://localhost:8080/"
        },
        "id": "5EBwf2HXIuws",
        "outputId": "fcba1c52-388f-40dc-83d2-35141a8d8c60"
      },
      "execution_count": 75,
      "outputs": [
        {
          "output_type": "execute_result",
          "data": {
            "text/plain": [
              "[18, 'Violin', 1.62, 'Perro']"
            ]
          },
          "metadata": {},
          "execution_count": 75
        }
      ]
    },
    {
      "cell_type": "code",
      "source": [
        "Ceci[0]"
      ],
      "metadata": {
        "colab": {
          "base_uri": "https://localhost:8080/"
        },
        "id": "AUnUjuT0Jpjf",
        "outputId": "0ebc65d5-15cf-4f57-d337-c7be9e2afc32"
      },
      "execution_count": 76,
      "outputs": [
        {
          "output_type": "execute_result",
          "data": {
            "text/plain": [
              "18"
            ]
          },
          "metadata": {},
          "execution_count": 76
        }
      ]
    },
    {
      "cell_type": "code",
      "source": [
        "Ceci.remove(\"Perro\")"
      ],
      "metadata": {
        "id": "V7o6WPJhJtyL"
      },
      "execution_count": 77,
      "outputs": []
    },
    {
      "cell_type": "code",
      "source": [
        "Ceci"
      ],
      "metadata": {
        "colab": {
          "base_uri": "https://localhost:8080/"
        },
        "id": "bgwNqmu3KBwC",
        "outputId": "e932c1a5-21cf-4717-f338-be5ff5716c88"
      },
      "execution_count": 78,
      "outputs": [
        {
          "output_type": "execute_result",
          "data": {
            "text/plain": [
              "[18, 'Violin', 1.62]"
            ]
          },
          "metadata": {},
          "execution_count": 78
        }
      ]
    },
    {
      "cell_type": "code",
      "source": [
        "Ceci.pop(1)"
      ],
      "metadata": {
        "colab": {
          "base_uri": "https://localhost:8080/",
          "height": 36
        },
        "id": "gwVXeZR2KRPn",
        "outputId": "2c15f616-5057-4d8d-8c9c-7e238a651639"
      },
      "execution_count": 79,
      "outputs": [
        {
          "output_type": "execute_result",
          "data": {
            "text/plain": [
              "'Violin'"
            ],
            "application/vnd.google.colaboratory.intrinsic+json": {
              "type": "string"
            }
          },
          "metadata": {},
          "execution_count": 79
        }
      ]
    },
    {
      "cell_type": "code",
      "source": [
        "Ceci"
      ],
      "metadata": {
        "colab": {
          "base_uri": "https://localhost:8080/"
        },
        "id": "IiSgmixaKZ-j",
        "outputId": "456e6794-5170-4395-99f3-8bca0e998d3f"
      },
      "execution_count": 80,
      "outputs": [
        {
          "output_type": "execute_result",
          "data": {
            "text/plain": [
              "[18, 1.62]"
            ]
          },
          "metadata": {},
          "execution_count": 80
        }
      ]
    },
    {
      "cell_type": "code",
      "source": [
        "Ceci[0:2]\n"
      ],
      "metadata": {
        "colab": {
          "base_uri": "https://localhost:8080/"
        },
        "id": "E3hvkh7GMsxW",
        "outputId": "97dcf284-6318-44d7-b32e-92f5f71377da"
      },
      "execution_count": 82,
      "outputs": [
        {
          "output_type": "execute_result",
          "data": {
            "text/plain": [
              "[18, 1.62]"
            ]
          },
          "metadata": {},
          "execution_count": 82
        }
      ]
    },
    {
      "cell_type": "code",
      "source": [
        "Indices[0::3]"
      ],
      "metadata": {
        "colab": {
          "base_uri": "https://localhost:8080/"
        },
        "id": "JfVMCxmpOIB7",
        "outputId": "0cc6a06b-2747-4339-c135-bfe2c70799bf"
      },
      "execution_count": 83,
      "outputs": [
        {
          "output_type": "execute_result",
          "data": {
            "text/plain": [
              "[0, 3, 6, 9, 12, 15, 18]"
            ]
          },
          "metadata": {},
          "execution_count": 83
        }
      ]
    }
  ]
}