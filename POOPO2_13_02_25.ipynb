{
  "nbformat": 4,
  "nbformat_minor": 0,
  "metadata": {
    "colab": {
      "provenance": []
    },
    "kernelspec": {
      "name": "python3",
      "display_name": "Python 3"
    },
    "language_info": {
      "name": "python"
    }
  },
  "cells": [
    {
      "cell_type": "code",
      "execution_count": null,
      "metadata": {
        "id": "E4g8pxQELUDT"
      },
      "outputs": [],
      "source": []
    },
    {
      "cell_type": "markdown",
      "source": [
        "##Clases y herencias\n",
        "¿Qué es una clase? Una clase es una estructura que contiene funciones guiándose por una función madre que contiene otras funciones hijas"
      ],
      "metadata": {
        "id": "ON9Oub6CLZm_"
      }
    },
    {
      "cell_type": "markdown",
      "source": [
        "\n",
        "\n",
        "##Clases\n",
        "\n",
        "\n",
        "*   No tomen argumentos\n",
        "\n",
        "*   Muestra enunciados usando el método de inicialización\n",
        "`init`\n",
        "*   El método para crear clases es\n",
        "`class`\n",
        "\n",
        "\n",
        "\n",
        "\n",
        "\n",
        "\n",
        "\n",
        "\n",
        "\n"
      ],
      "metadata": {
        "id": "MRMParkbz4zz"
      }
    },
    {
      "cell_type": "code",
      "source": [
        "class Alvaro():\n",
        "  pass"
      ],
      "metadata": {
        "id": "KkyvS5AGLjn1"
      },
      "execution_count": 81,
      "outputs": []
    },
    {
      "cell_type": "code",
      "source": [
        "Alvaro()"
      ],
      "metadata": {
        "colab": {
          "base_uri": "https://localhost:8080/"
        },
        "id": "YTE6bN0dLyHX",
        "outputId": "336afc17-dac6-41e5-b20c-144d6fd3bc69"
      },
      "execution_count": 82,
      "outputs": [
        {
          "output_type": "execute_result",
          "data": {
            "text/plain": [
              "<__main__.Alvaro at 0x7b9cbebfd690>"
            ]
          },
          "metadata": {},
          "execution_count": 82
        }
      ]
    },
    {
      "cell_type": "code",
      "source": [
        "#Vamos a crear una clase que se llamará Alvaro\n",
        "class Alvaro:\n",
        "  def __init__ (self, edad, bff, Ceci):\n",
        "   self.edad=edad\n",
        "   self.bff=bff\n",
        "   self.Ceci=Ceci\n",
        "\n",
        "  def saludar(self):\n",
        "    print(f\"A los {self.edad} conocí a mi {self.bff}\")\n",
        "\n",
        "  def chisme(self):\n",
        "    print(f\"Alvaro está en el chisme con {self.bff} y con {self.Ceci}\")\n",
        "\n",
        ""
      ],
      "metadata": {
        "id": "9e9N7YNdLz1g"
      },
      "execution_count": 83,
      "outputs": []
    },
    {
      "cell_type": "code",
      "source": [
        "avo= Alvaro(18, \"Jaume\", \"Ceci\")"
      ],
      "metadata": {
        "id": "zLJA7pEmRAC9"
      },
      "execution_count": 84,
      "outputs": []
    },
    {
      "cell_type": "code",
      "source": [
        "avo.bff"
      ],
      "metadata": {
        "colab": {
          "base_uri": "https://localhost:8080/",
          "height": 36
        },
        "id": "uP4CM4HlRkIR",
        "outputId": "e2ff8ee4-465e-450d-da54-485110e6e8a0"
      },
      "execution_count": 85,
      "outputs": [
        {
          "output_type": "execute_result",
          "data": {
            "text/plain": [
              "'Jaume'"
            ],
            "application/vnd.google.colaboratory.intrinsic+json": {
              "type": "string"
            }
          },
          "metadata": {},
          "execution_count": 85
        }
      ]
    },
    {
      "cell_type": "code",
      "source": [
        "#¿Cuáles son los argumentos de la clase?\n",
        "\n",
        "avo.edad, avo.bff, avo.Ceci"
      ],
      "metadata": {
        "colab": {
          "base_uri": "https://localhost:8080/"
        },
        "id": "vYeEc3x2SeEg",
        "outputId": "cf6eee8a-6690-4015-8ae8-594419d205f8"
      },
      "execution_count": 86,
      "outputs": [
        {
          "output_type": "execute_result",
          "data": {
            "text/plain": [
              "(18, 'Jaume', 'Ceci')"
            ]
          },
          "metadata": {},
          "execution_count": 86
        }
      ]
    },
    {
      "cell_type": "code",
      "source": [
        "avo.saludar()"
      ],
      "metadata": {
        "colab": {
          "base_uri": "https://localhost:8080/"
        },
        "id": "6G8vRlvrUrYw",
        "outputId": "d516fce4-a10b-4aef-c7f9-f4dde39a0f7f"
      },
      "execution_count": 87,
      "outputs": [
        {
          "output_type": "stream",
          "name": "stdout",
          "text": [
            "A los 18 conocí a mi Jaume\n"
          ]
        }
      ]
    },
    {
      "cell_type": "code",
      "source": [
        "avo.chisme()"
      ],
      "metadata": {
        "colab": {
          "base_uri": "https://localhost:8080/"
        },
        "id": "tebf_nC-Ua-K",
        "outputId": "718cab8e-4d9a-41a9-a27c-3cc36a125fc2"
      },
      "execution_count": 88,
      "outputs": [
        {
          "output_type": "stream",
          "name": "stdout",
          "text": [
            "Alvaro está en el chisme con Jaume y con Ceci\n"
          ]
        }
      ]
    }
  ]
}